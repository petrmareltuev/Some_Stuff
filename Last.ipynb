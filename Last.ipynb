{
  "nbformat": 4,
  "nbformat_minor": 0,
  "metadata": {
    "kernelspec": {
      "display_name": "Python 3.6",
      "language": "python",
      "name": "python36"
    },
    "language_info": {
      "codemirror_mode": {
        "name": "ipython",
        "version": 3
      },
      "file_extension": ".py",
      "mimetype": "text/x-python",
      "name": "python",
      "nbconvert_exporter": "python",
      "pygments_lexer": "ipython3",
      "version": "3.6.6"
    },
    "colab": {
      "name": "Last.ipynb",
      "provenance": []
    }
  },
  "cells": [
    {
      "cell_type": "code",
      "metadata": {
        "id": "FvnVyMxHXHGs",
        "colab_type": "code",
        "colab": {
          "base_uri": "https://localhost:8080/",
          "height": 141
        },
        "outputId": "39a7178d-98aa-427f-9295-b91d38d29e78"
      },
      "source": [
        "!pip install --upgrade pip\n",
        "!pip install --upgrade scikit-learn==0.23.0"
      ],
      "execution_count": 1,
      "outputs": [
        {
          "output_type": "stream",
          "text": [
            "Requirement already up-to-date: pip in /usr/local/lib/python3.6/dist-packages (20.1.1)\n",
            "Requirement already up-to-date: scikit-learn==0.23.0 in /usr/local/lib/python3.6/dist-packages (0.23.0)\n",
            "Requirement already satisfied, skipping upgrade: numpy>=1.13.3 in /usr/local/lib/python3.6/dist-packages (from scikit-learn==0.23.0) (1.18.5)\n",
            "Requirement already satisfied, skipping upgrade: scipy>=0.19.1 in /usr/local/lib/python3.6/dist-packages (from scikit-learn==0.23.0) (1.4.1)\n",
            "Requirement already satisfied, skipping upgrade: threadpoolctl>=2.0.0 in /usr/local/lib/python3.6/dist-packages (from scikit-learn==0.23.0) (2.1.0)\n",
            "Requirement already satisfied, skipping upgrade: joblib>=0.11 in /usr/local/lib/python3.6/dist-packages (from scikit-learn==0.23.0) (0.15.1)\n"
          ],
          "name": "stdout"
        }
      ]
    },
    {
      "cell_type": "code",
      "metadata": {
        "id": "CBAbfKovXHHD",
        "colab_type": "code",
        "colab": {}
      },
      "source": [
        "import numpy as np\n",
        "import matplotlib\n",
        "import pandas as pd\n",
        "import matplotlib.pyplot as plt\n",
        "from sklearn.model_selection import train_test_split\n",
        "from sklearn.multiclass import OneVsRestClassifier\n",
        "from sklearn.tree import DecisionTreeClassifier\n",
        "from sklearn.ensemble import RandomForestClassifier\n",
        "from sklearn.linear_model import LogisticRegression\n",
        "from sklearn.metrics import confusion_matrix\n",
        "import csv\n",
        "%matplotlib inline"
      ],
      "execution_count": 2,
      "outputs": []
    },
    {
      "cell_type": "markdown",
      "metadata": {
        "id": "ZIpC9_7UXHHQ",
        "colab_type": "text"
      },
      "source": [
        "Импортируем датасет MNIST."
      ]
    },
    {
      "cell_type": "code",
      "metadata": {
        "id": "utiQ1lSVXHHU",
        "colab_type": "code",
        "colab": {
          "base_uri": "https://localhost:8080/",
          "height": 34
        },
        "outputId": "f13ceb06-79a4-4005-f205-360cba51aae6"
      },
      "source": [
        "from keras.datasets import mnist\n",
        "(X_train, y_train), (X_pred, y_pred) = mnist.load_data()"
      ],
      "execution_count": 3,
      "outputs": [
        {
          "output_type": "stream",
          "text": [
            "Using TensorFlow backend.\n"
          ],
          "name": "stderr"
        }
      ]
    },
    {
      "cell_type": "markdown",
      "metadata": {
        "id": "mWZd3z54XHHg",
        "colab_type": "text"
      },
      "source": [
        "Объем тренировочного набора данных:"
      ]
    },
    {
      "cell_type": "code",
      "metadata": {
        "id": "zFKD2I9pXHHi",
        "colab_type": "code",
        "colab": {
          "base_uri": "https://localhost:8080/",
          "height": 34
        },
        "outputId": "d81659de-02d4-4e38-eab8-809816e20f8f"
      },
      "source": [
        "len(X_train)"
      ],
      "execution_count": 4,
      "outputs": [
        {
          "output_type": "execute_result",
          "data": {
            "text/plain": [
              "60000"
            ]
          },
          "metadata": {
            "tags": []
          },
          "execution_count": 4
        }
      ]
    },
    {
      "cell_type": "markdown",
      "metadata": {
        "id": "-Mi6XEMKXHHu",
        "colab_type": "text"
      },
      "source": [
        "Посмотрим, что из себя представляет, например, нулевой объект."
      ]
    },
    {
      "cell_type": "code",
      "metadata": {
        "id": "ik5uZLcSXHHw",
        "colab_type": "code",
        "colab": {
          "base_uri": "https://localhost:8080/",
          "height": 298
        },
        "outputId": "9b75519b-d95b-4772-dc5d-d6c492cf8980"
      },
      "source": [
        "plt.title(\"Нулевой объект из тренировочного набора:\")\n",
        "plt.imshow(X_train[0], cmap=\"gray\")"
      ],
      "execution_count": 5,
      "outputs": [
        {
          "output_type": "execute_result",
          "data": {
            "text/plain": [
              "<matplotlib.image.AxesImage at 0x7f150edcb898>"
            ]
          },
          "metadata": {
            "tags": []
          },
          "execution_count": 5
        },
        {
          "output_type": "display_data",
          "data": {
            "image/png": "[encoded data removed]",
            "text/plain": [
              "<Figure size 432x288 with 1 Axes>"
            ]
          },
          "metadata": {
            "tags": [],
            "needs_background": "light"
          }
        }
      ]
    },
    {
      "cell_type": "markdown",
      "metadata": {
        "id": "Aj3w_r5dXHH9",
        "colab_type": "text"
      },
      "source": [
        "Отклик нулевого объекта из тренировочного набора:"
      ]
    },
    {
      "cell_type": "code",
      "metadata": {
        "id": "kCCfElEmXHIA",
        "colab_type": "code",
        "colab": {
          "base_uri": "https://localhost:8080/",
          "height": 34
        },
        "outputId": "156380b3-f7f0-4928-92c2-51d4fb20c348"
      },
      "source": [
        "y_train[0]"
      ],
      "execution_count": 6,
      "outputs": [
        {
          "output_type": "execute_result",
          "data": {
            "text/plain": [
              "5"
            ]
          },
          "metadata": {
            "tags": []
          },
          "execution_count": 6
        }
      ]
    },
    {
      "cell_type": "code",
      "metadata": {
        "id": "3Av32t3wXHIV",
        "colab_type": "code",
        "colab": {}
      },
      "source": [
        "dim = 784 # 28*28 \n",
        "X_train = X_train.reshape(len(X_train), dim)\n"
      ],
      "execution_count": 7,
      "outputs": []
    },
    {
      "cell_type": "code",
      "metadata": {
        "id": "AJFBTHO_XHIf",
        "colab_type": "code",
        "colab": {}
      },
      "source": [
        "from sklearn.decomposition import PCA\n",
        "\n",
        "pca1 = PCA(n_components=784, svd_solver='full')\n",
        "modelPCA1 = pca1.fit(X_train) "
      ],
      "execution_count": 8,
      "outputs": []
    },
    {
      "cell_type": "markdown",
      "metadata": {
        "id": "8rTC4jBJa8wG",
        "colab_type": "text"
      },
      "source": [
        "Доля объясненной дисперсии (При 44 компонентах доля оъясненной дисперсии будет больше 0.8)"
      ]
    },
    {
      "cell_type": "code",
      "metadata": {
        "id": "JJ6sBtyPaCVK",
        "colab_type": "code",
        "colab": {
          "base_uri": "https://localhost:8080/",
          "height": 34
        },
        "outputId": "859a0f98-3ef0-4b7c-948a-62fd59aa0618"
      },
      "source": [
        "explained_variance = np.round(np.cumsum(pca1.explained_variance_ratio_),3)\n",
        "len(explained_variance[explained_variance < 0.8])"
      ],
      "execution_count": 9,
      "outputs": [
        {
          "output_type": "execute_result",
          "data": {
            "text/plain": [
              "43"
            ]
          },
          "metadata": {
            "tags": []
          },
          "execution_count": 9
        }
      ]
    },
    {
      "cell_type": "code",
      "metadata": {
        "id": "YrYc0o1malBO",
        "colab_type": "code",
        "colab": {
          "base_uri": "https://localhost:8080/",
          "height": 282
        },
        "outputId": "f8f9b7eb-91ea-4f2f-9e4b-33e8aacf0859"
      },
      "source": [
        "plt.plot(np.arange(784), explained_variance, ls = '-')"
      ],
      "execution_count": 10,
      "outputs": [
        {
          "output_type": "execute_result",
          "data": {
            "text/plain": [
              "[<matplotlib.lines.Line2D at 0x7f150c0b6898>]"
            ]
          },
          "metadata": {
            "tags": []
          },
          "execution_count": 10
        },
        {
          "output_type": "display_data",
          "data": {
            "image/png": "[encoded data removed]",
            "text/plain": [
              "<Figure size 432x288 with 1 Axes>"
            ]
          },
          "metadata": {
            "tags": [],
            "needs_background": "light"
          }
        }
      ]
    },
    {
      "cell_type": "markdown",
      "metadata": {
        "id": "dpCYhTBFbCNg",
        "colab_type": "text"
      },
      "source": [
        "Находим счеты для количества компонент, при котором доля объясненной дисперсии будет больше 0.8"
      ]
    },
    {
      "cell_type": "code",
      "metadata": {
        "id": "SkXqxUVia7Ki",
        "colab_type": "code",
        "colab": {}
      },
      "source": [
        "pca = PCA(n_components=44, svd_solver='full')\n",
        "modelPCA = pca.fit(X_train) \n",
        "X_train = modelPCA.transform(X_train)"
      ],
      "execution_count": 11,
      "outputs": []
    },
    {
      "cell_type": "markdown",
      "metadata": {
        "id": "0si8NOcbdnWG",
        "colab_type": "text"
      },
      "source": [
        "Разделение на тестовую и обучающие выборки"
      ]
    },
    {
      "cell_type": "code",
      "metadata": {
        "id": "hsmdRUkvdR58",
        "colab_type": "code",
        "colab": {}
      },
      "source": [
        "X_train, X_test, y_train, y_test = train_test_split(X_train, y_train, test_size=0.3, random_state=45)"
      ],
      "execution_count": 12,
      "outputs": []
    },
    {
      "cell_type": "markdown",
      "metadata": {
        "id": "DQPfI7AeeVxV",
        "colab_type": "text"
      },
      "source": [
        "Выборочное среднее для 0 колонки тренировочных данных"
      ]
    },
    {
      "cell_type": "code",
      "metadata": {
        "id": "HoCGo-pXeVY3",
        "colab_type": "code",
        "colab": {
          "base_uri": "https://localhost:8080/",
          "height": 34
        },
        "outputId": "49894758-a9b9-423d-9180-a1dfb906f2c0"
      },
      "source": [
        "sum(X_train[:,0]) / len(X_train) "
      ],
      "execution_count": 13,
      "outputs": [
        {
          "output_type": "execute_result",
          "data": {
            "text/plain": [
              "0.15659943217812164"
            ]
          },
          "metadata": {
            "tags": []
          },
          "execution_count": 13
        }
      ]
    },
    {
      "cell_type": "markdown",
      "metadata": {
        "id": "W1HNsuncXHIz",
        "colab_type": "text"
      },
      "source": [
        "Обучаем модель:"
      ]
    },
    {
      "cell_type": "code",
      "metadata": {
        "id": "w2_9HMnDXHI1",
        "colab_type": "code",
        "colab": {}
      },
      "source": [
        "tree = RandomForestClassifier(criterion='gini', min_samples_leaf=10, max_depth=20, n_estimators=10, random_state=45)\n",
        "clf1 = OneVsRestClassifier(tree).fit(X_train, y_train)"
      ],
      "execution_count": 14,
      "outputs": []
    },
    {
      "cell_type": "markdown",
      "metadata": {
        "id": "KvW1OloaXHI_",
        "colab_type": "text"
      },
      "source": [
        "Примените полученное ранее преобразование метода главных компонент к тестовым данным"
      ]
    },
    {
      "cell_type": "code",
      "metadata": {
        "id": "r9Ckl_laXHJI",
        "colab_type": "code",
        "colab": {}
      },
      "source": [
        "y_pred = clf1.predict(X_test)"
      ],
      "execution_count": 15,
      "outputs": []
    },
    {
      "cell_type": "markdown",
      "metadata": {
        "id": "PzIP1fL_XHJR",
        "colab_type": "text"
      },
      "source": [
        "Выполняем оценку:"
      ]
    },
    {
      "cell_type": "code",
      "metadata": {
        "id": "MygwFlWDXHJT",
        "colab_type": "code",
        "colab": {}
      },
      "source": [
        "CM = confusion_matrix(y_test, y_pred)"
      ],
      "execution_count": 16,
      "outputs": []
    },
    {
      "cell_type": "markdown",
      "metadata": {
        "id": "1wgW7q5cXHJs",
        "colab_type": "text"
      },
      "source": [
        "Число верно классифицирвоанных объектов класс 5"
      ]
    },
    {
      "cell_type": "code",
      "metadata": {
        "id": "FILB4gAGXHJu",
        "colab_type": "code",
        "colab": {
          "base_uri": "https://localhost:8080/",
          "height": 34
        },
        "outputId": "43b90e9e-71d0-4782-9a16-24d17004e56a"
      },
      "source": [
        "CM[5][5]"
      ],
      "execution_count": 17,
      "outputs": [
        {
          "output_type": "execute_result",
          "data": {
            "text/plain": [
              "1401"
            ]
          },
          "metadata": {
            "tags": []
          },
          "execution_count": 17
        }
      ]
    },
    {
      "cell_type": "markdown",
      "metadata": {
        "id": "FxKzdyOtjYBV",
        "colab_type": "text"
      },
      "source": [
        "Обучаем модель регрессии"
      ]
    },
    {
      "cell_type": "code",
      "metadata": {
        "id": "kpqyKLz8jMcn",
        "colab_type": "code",
        "colab": {}
      },
      "source": [
        "reg = LogisticRegression(solver='lbfgs', random_state=45)\n",
        "clf2 = OneVsRestClassifier(reg).fit(X_train, y_train)"
      ],
      "execution_count": 18,
      "outputs": []
    },
    {
      "cell_type": "code",
      "metadata": {
        "id": "5SgrgCtWjMiF",
        "colab_type": "code",
        "colab": {}
      },
      "source": [
        "y_pred = clf2.predict(X_test)"
      ],
      "execution_count": 19,
      "outputs": []
    },
    {
      "cell_type": "code",
      "metadata": {
        "id": "tHZokjgJjMl3",
        "colab_type": "code",
        "colab": {
          "base_uri": "https://localhost:8080/",
          "height": 34
        },
        "outputId": "48065dd0-703d-43c3-ad38-61e5cc811f09"
      },
      "source": [
        "CM = confusion_matrix(y_test, y_pred)\n",
        "CM[1][1]"
      ],
      "execution_count": 20,
      "outputs": [
        {
          "output_type": "execute_result",
          "data": {
            "text/plain": [
              "1909"
            ]
          },
          "metadata": {
            "tags": []
          },
          "execution_count": 20
        }
      ]
    },
    {
      "cell_type": "code",
      "metadata": {
        "id": "9PyJZpDLkax9",
        "colab_type": "code",
        "colab": {}
      },
      "source": [
        "reg = DecisionTreeClassifier(criterion='gini',min_samples_leaf=10,max_depth=20,random_state=45)\n",
        "clf3 = OneVsRestClassifier(reg).fit(X_train, y_train)"
      ],
      "execution_count": 21,
      "outputs": []
    },
    {
      "cell_type": "code",
      "metadata": {
        "id": "D8vHyCSokasz",
        "colab_type": "code",
        "colab": {}
      },
      "source": [
        "y_pred = clf3.predict(X_test)"
      ],
      "execution_count": 22,
      "outputs": []
    },
    {
      "cell_type": "code",
      "metadata": {
        "id": "jMDEzAf9kaq4",
        "colab_type": "code",
        "colab": {
          "base_uri": "https://localhost:8080/",
          "height": 34
        },
        "outputId": "a07b1655-7b23-480d-bfd0-10320885ff67"
      },
      "source": [
        "CM = confusion_matrix(y_test, y_pred)\n",
        "CM[4][4]"
      ],
      "execution_count": 23,
      "outputs": [
        {
          "output_type": "execute_result",
          "data": {
            "text/plain": [
              "1403"
            ]
          },
          "metadata": {
            "tags": []
          },
          "execution_count": 23
        }
      ]
    },
    {
      "cell_type": "code",
      "metadata": {
        "id": "8iL2vcxhLLfw",
        "colab_type": "code",
        "colab": {}
      },
      "source": [
        ""
      ],
      "execution_count": 23,
      "outputs": []
    },
    {
      "cell_type": "code",
      "metadata": {
        "id": "g7bHJ-KbkapC",
        "colab_type": "code",
        "colab": {
          "base_uri": "https://localhost:8080/",
          "height": 139
        },
        "outputId": "332e4ed9-37f7-4d2d-b871-df835b3844d2"
      },
      "source": [
        "file = open('pred_for_task.csv', 'r')\n",
        "reader = csv.reader(file)\n",
        "next(reader)\n",
        "all = []\n",
        "for mas in reader:\n",
        "  mas = [int(el) for el in mas[2:786]]\n",
        "  all.append(mas)\n",
        "all = np.array(all)\n",
        "print(all)"
      ],
      "execution_count": 24,
      "outputs": [
        {
          "output_type": "stream",
          "text": [
            "[[0 0 0 ... 0 0 0]\n",
            " [0 0 0 ... 0 0 0]\n",
            " [0 0 0 ... 0 0 0]\n",
            " ...\n",
            " [0 0 0 ... 0 0 0]\n",
            " [0 0 0 ... 0 0 0]\n",
            " [0 0 0 ... 0 0 0]]\n"
          ],
          "name": "stdout"
        }
      ]
    },
    {
      "cell_type": "code",
      "metadata": {
        "id": "U2128-sr5ccG",
        "colab_type": "code",
        "colab": {}
      },
      "source": [
        "test = modelPCA.transform(all)"
      ],
      "execution_count": 25,
      "outputs": []
    },
    {
      "cell_type": "code",
      "metadata": {
        "id": "CSXefslcNZtr",
        "colab_type": "code",
        "colab": {
          "base_uri": "https://localhost:8080/",
          "height": 34
        },
        "outputId": "a34ccb2f-c71f-421b-b94e-cfeb5f3b7f2b"
      },
      "source": [
        "y = clf1.predict(test)\n",
        "y_pred = clf1.predict_proba(test)\n",
        "np.max(y_pred[4])"
      ],
      "execution_count": 26,
      "outputs": [
        {
          "output_type": "execute_result",
          "data": {
            "text/plain": [
              "0.6433415149478461"
            ]
          },
          "metadata": {
            "tags": []
          },
          "execution_count": 26
        }
      ]
    },
    {
      "cell_type": "code",
      "metadata": {
        "id": "X8Rpa4Ct6S5H",
        "colab_type": "code",
        "colab": {
          "base_uri": "https://localhost:8080/",
          "height": 34
        },
        "outputId": "0404266d-0a59-4db0-8d1f-20afd7e0a2e6"
      },
      "source": [
        "y = clf2.predict(test)\n",
        "y_pred = clf2.predict_proba(test)\n",
        "np.max(y_pred[9])"
      ],
      "execution_count": 27,
      "outputs": [
        {
          "output_type": "execute_result",
          "data": {
            "text/plain": [
              "0.8020918255843941"
            ]
          },
          "metadata": {
            "tags": []
          },
          "execution_count": 27
        }
      ]
    },
    {
      "cell_type": "code",
      "metadata": {
        "colab_type": "code",
        "id": "uumGOdyhmNay",
        "colab": {
          "base_uri": "https://localhost:8080/",
          "height": 89
        },
        "outputId": "8683250a-098a-4875-bea9-861451f33fae"
      },
      "source": [
        "y = clf3.predict(test)\n",
        "y_pred = clf3.predict_proba(test)\n",
        "np.max(y_pred[0])"
      ],
      "execution_count": 28,
      "outputs": [
        {
          "output_type": "stream",
          "text": [
            "/usr/local/lib/python3.6/dist-packages/sklearn/multiclass.py:382: RuntimeWarning: invalid value encountered in true_divide\n",
            "  Y /= np.sum(Y, axis=1)[:, np.newaxis]\n"
          ],
          "name": "stderr"
        },
        {
          "output_type": "execute_result",
          "data": {
            "text/plain": [
              "0.8320751653855792"
            ]
          },
          "metadata": {
            "tags": []
          },
          "execution_count": 28
        }
      ]
    }
  ]
}