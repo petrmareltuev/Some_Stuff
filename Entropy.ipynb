{
 "cells": [
  {
   "cell_type": "code",
   "execution_count": 64,
   "metadata": {
    "colab": {},
    "colab_type": "code",
    "id": "oDgnFynW8zo5"
   },
   "outputs": [],
   "source": [
    "import pandas as pd\n",
    "import math"
   ]
  },
  {
   "cell_type": "code",
   "execution_count": 65,
   "metadata": {
    "colab": {},
    "colab_type": "code",
    "id": "RvfLlpCy7-N0"
   },
   "outputs": [],
   "source": [
    "string = '''Pizza \t3 \t2 \tYes\n",
    "Pizza \t4 \t1 \tNo\n",
    "Pizza \t1 \t3 \tNo\n",
    "Pizza \t5 \t5 \tYes\n",
    "Pizza \t5 \t4 \tYes\n",
    "Sushi \t1 \t3 \tYes\n",
    "Sushi \t5 \t5 \tNo\n",
    "Sushi \t4 \t2 \tYes\n",
    "Sushi \t4 \t4 \tNo\n",
    "Sushi \t5 \t5 \tYes\n",
    "Sushi \t3 \t3 \tYes\n",
    "Sushi \t3 \t3 \tNo\n",
    "Sushi \t4 \t2 \tYes\n",
    "Burgers \t5 \t5 \tYes\n",
    "Burgers \t4 \t4 \tYes\n",
    "Burgers \t3 \t3 \tYes\n",
    "Burgers \t2 \t2 \tYes\n",
    "Burgers \t1 \t1 \tYes\n",
    "Burgers \t2 \t2 \tNo\n",
    "Burgers \t1 \t1 \tNo'''"
   ]
  },
  {
   "cell_type": "code",
   "execution_count": 66,
   "metadata": {
    "colab": {},
    "colab_type": "code",
    "id": "q2vmSnKQ8ynA"
   },
   "outputs": [],
   "source": [
    "df = pd.DataFrame(columns = ['Food', 'Price', 'Taste', 'Demand'])"
   ]
  },
  {
   "cell_type": "code",
   "execution_count": 67,
   "metadata": {
    "colab": {},
    "colab_type": "code",
    "id": "ni01DW2f8Lsu"
   },
   "outputs": [],
   "source": [
    "for i,word in enumerate(string.split()):\n",
    "  if i%4 == 0:\n",
    "    food = word\n",
    "  if i%4 == 1:\n",
    "    price = int(word)\n",
    "  if i%4 == 2:\n",
    "    taste = int(word)\n",
    "  if i%4 == 3:\n",
    "    if word == 'Yes':\n",
    "      demand = 1\n",
    "    else:\n",
    "      demand = 0\n",
    "    df2 = pd.DataFrame([[food,price,taste,demand]], columns = ['Food', 'Price', 'Taste', 'Demand'])\n",
    "    df = df.append(df2)"
   ]
  },
  {
   "cell_type": "code",
   "execution_count": 68,
   "metadata": {
    "colab": {
     "base_uri": "https://localhost:8080/",
     "height": 121
    },
    "colab_type": "code",
    "id": "MAWUYCV88MRU",
    "outputId": "b7a9e5ff-604f-4d85-e292-811e8b8c7d33"
   },
   "outputs": [
    {
     "name": "stdout",
     "output_type": "stream",
     "text": [
      "    Food Price Taste Demand\n",
      "0  Pizza     3     2      1\n",
      "0  Pizza     4     1      0\n",
      "0  Pizza     1     3      0\n",
      "0  Pizza     5     5      1\n",
      "0  Pizza     5     4      1\n"
     ]
    }
   ],
   "source": [
    "print(df.head(5))"
   ]
  },
  {
   "cell_type": "code",
   "execution_count": 69,
   "metadata": {
    "colab": {
     "base_uri": "https://localhost:8080/",
     "height": 34
    },
    "colab_type": "code",
    "id": "HKjMaCNa8MXG",
    "outputId": "db75b9f7-4ca7-42d2-c966-b40ceb817cb4"
   },
   "outputs": [
    {
     "name": "stdout",
     "output_type": "stream",
     "text": [
      "13\n"
     ]
    }
   ],
   "source": [
    "right = df.loc[:, 'Demand'].sum(axis=0)\n",
    "print(right)"
   ]
  },
  {
   "cell_type": "code",
   "execution_count": 70,
   "metadata": {
    "colab": {
     "base_uri": "https://localhost:8080/",
     "height": 34
    },
    "colab_type": "code",
    "id": "pXI1hMcDBgOI",
    "outputId": "c07b1839-4885-4ef4-dbf9-042071b2fefb"
   },
   "outputs": [
    {
     "name": "stdout",
     "output_type": "stream",
     "text": [
      "20\n"
     ]
    }
   ],
   "source": [
    "all = len(df)\n",
    "print(all)"
   ]
  },
  {
   "cell_type": "code",
   "execution_count": 71,
   "metadata": {
    "colab": {},
    "colab_type": "code",
    "id": "rleOUD-MBvDg"
   },
   "outputs": [],
   "source": [
    "def H(p):\n",
    "  h = 0\n",
    "  for P in p:\n",
    "    h += P * math.log2(P)\n",
    "  return -h"
   ]
  },
  {
   "cell_type": "code",
   "execution_count": 72,
   "metadata": {
    "colab": {},
    "colab_type": "code",
    "id": "kLSXFQAjYW5l"
   },
   "outputs": [],
   "source": [
    "def IG(H_):\n",
    "  A = right / all\n",
    "  p = [A, 1 - A]\n",
    "  return H(p) - H_"
   ]
  },
  {
   "cell_type": "code",
   "execution_count": 73,
   "metadata": {
    "colab": {
     "base_uri": "https://localhost:8080/",
     "height": 34
    },
    "colab_type": "code",
    "id": "q5eZSQZXBgTA",
    "outputId": "c1d4a614-8fe6-443e-8031-cff3524f615a"
   },
   "outputs": [
    {
     "name": "stdout",
     "output_type": "stream",
     "text": [
      "0.9340680553754911\n"
     ]
    }
   ],
   "source": [
    " A = right / all\n",
    " p = [A, 1 - A]\n",
    " print(H(p))"
   ]
  },
  {
   "cell_type": "code",
   "execution_count": 74,
   "metadata": {
    "colab": {
     "base_uri": "https://localhost:8080/",
     "height": 34
    },
    "colab_type": "code",
    "id": "DD540a6EXYbf",
    "outputId": "585e77e1-9725-4b09-ca0a-8b3dcf0de54e"
   },
   "outputs": [
    {
     "name": "stdout",
     "output_type": "stream",
     "text": [
      "0.9544340029249649\n"
     ]
    }
   ],
   "source": [
    "A = 5 / 8\n",
    "p = [A, 1 - A]\n",
    "print(H(p))"
   ]
  },
  {
   "cell_type": "code",
   "execution_count": 125,
   "metadata": {
    "colab": {
     "base_uri": "https://localhost:8080/",
     "height": 69
    },
    "colab_type": "code",
    "id": "slLx6LYGRL5X",
    "outputId": "b8fa011f-7b41-4fa2-d863-442858566edd"
   },
   "outputs": [
    {
     "name": "stdout",
     "output_type": "stream",
     "text": [
      "[0.7142857142857143, 0.2857142857142857]\n",
      "0.926603448781974\n",
      "0.007464606593517109\n"
     ]
    }
   ],
   "source": [
    " P_sushi = 8 / all\n",
    " P_pizza = 5 / all\n",
    " P_burgers = 7 / all\n",
    " P_demand_sushi_Yes = 5/8\n",
    " P_demand_pizza_Yes = 3/5\n",
    " P_demand_burgers_Yes = 5/7\n",
    " p = [P_demand_sushi_Yes, 1 - P_demand_sushi_Yes]\n",
    " H1 = H(p)\n",
    " p = [P_demand_pizza_Yes, 1 - P_demand_pizza_Yes]\n",
    " H2 = H(p)\n",
    " p = [P_demand_burgers_Yes, 1 - P_demand_burgers_Yes]\n",
    " H3 = H(p)\n",
    " H_ = P_sushi * H1 + H2 * P_pizza + P_burgers * H3\n",
    " print(H_)\n",
    " print(IG(H_))"
   ]
  },
  {
   "cell_type": "code",
   "execution_count": 132,
   "metadata": {
    "colab": {
     "base_uri": "https://localhost:8080/",
     "height": 104
    },
    "colab_type": "code",
    "id": "zTK4Fa6tRMMB",
    "outputId": "5ae083f9-c123-4ee8-e4a0-16be6d98013e"
   },
   "outputs": [
    {
     "name": "stdout",
     "output_type": "stream",
     "text": [
      "[0.2, 0.1, 0.2, 0.25, 0.25]\n",
      "[0.5, 0.5, 0.75, 0.6, 0.8]\n",
      "[1.0, 1.0, 0.8112781244591328, 0.9709505944546686, 0.7219280948873623]\n",
      "0.8854752972273343\n",
      "IG:  0.04859275814815678\n"
     ]
    }
   ],
   "source": [
    "p = []\n",
    "for i in range(1,6):\n",
    "  P = df.loc[df.loc[ :, 'Price'] == i, 'Price'].sum(axis=0) / i / all\n",
    "  p.append(P)\n",
    "print(p)\n",
    "\n",
    "p_u = []\n",
    "for i in range(1,6):\n",
    "  P3 = df.loc[df.loc[ :, 'Price'] == i, 'Price'].sum(axis=0) / i#знаменатель\n",
    "  \n",
    "  P1 = df.loc[df.loc[ :, 'Price'] == i,:]\n",
    "  P2 = P1.loc[P1.loc[ :, 'Demand'] == 1, 'Price'].sum(axis=0) / i#числитель\n",
    "  p_u.append(P2/P3)\n",
    "print(p_u)\n",
    "\n",
    "h = []\n",
    "for el in p_u:\n",
    "  h.append(H([el,1-el]))\n",
    "print(h)\n",
    "\n",
    "sum = 0 \n",
    "for i in range(5):\n",
    "  sum += p[i]*h[i]\n",
    "print(sum)\n",
    "print('IG: ',IG(sum))"
   ]
  },
  {
   "cell_type": "code",
   "execution_count": 133,
   "metadata": {
    "colab": {
     "base_uri": "https://localhost:8080/",
     "height": 104
    },
    "colab_type": "code",
    "id": "YhvoFeg18mtF",
    "outputId": "bee9f8c9-5802-41fd-aea3-b336e4ac17f1"
   },
   "outputs": [
    {
     "name": "stdout",
     "output_type": "stream",
     "text": [
      "[0.15, 0.25, 0.25, 0.15, 0.2]\n",
      "[0.3333333333333333, 0.8, 0.6, 0.6666666666666666, 0.75]\n",
      "[0.9182958340544896, 0.7219280948873623, 0.9709505944546686, 0.9182958340544896, 0.8112781244591328]\n",
      "0.8609640474436812\n",
      "IG:  0.07310400793180993\n"
     ]
    }
   ],
   "source": [
    "p = []\n",
    "for i in range(1,6):\n",
    "  P = df.loc[df.loc[ :, 'Taste'] == i, 'Taste'].sum(axis=0) / i / all\n",
    "  p.append(P)\n",
    "print(p)\n",
    "\n",
    "p_u = []\n",
    "for i in range(1,6):\n",
    "  P3 = df.loc[df.loc[ :, 'Taste'] == i, 'Taste'].sum(axis=0) / i#знаменатель\n",
    "  \n",
    "  P1 = df.loc[df.loc[ :, 'Taste'] == i,:]\n",
    "  P2 = P1.loc[P1.loc[ :, 'Demand'] == 1, 'Taste'].sum(axis=0) / i#числитель\n",
    "  p_u.append(P2/P3)\n",
    "print(p_u)\n",
    "\n",
    "h = []\n",
    "for el in p_u:\n",
    "  h.append(H([el,1-el]))\n",
    "print(h)\n",
    "\n",
    "sum = 0 \n",
    "for i in range(5):\n",
    "  sum += p[i]*h[i]\n",
    "print(sum)\n",
    "print('IG: ',IG(sum))"
   ]
  }
 ],
 "metadata": {
  "colab": {
   "name": "Entropy.ipynb",
   "provenance": []
  },
  "kernelspec": {
   "display_name": "Python 3",
   "language": "python",
   "name": "python3"
  },
  "language_info": {
   "codemirror_mode": {
    "name": "ipython",
    "version": 3
   },
   "file_extension": ".py",
   "mimetype": "text/x-python",
   "name": "python",
   "nbconvert_exporter": "python",
   "pygments_lexer": "ipython3",
   "version": "3.7.4"
  }
 },
 "nbformat": 4,
 "nbformat_minor": 1
}
